{
 "cells": [
  {
   "cell_type": "code",
   "execution_count": 3,
   "metadata": {},
   "outputs": [],
   "source": [
    "import numpy as np\n",
    "import matplotlib.pyplot as plt\n",
    "import torch\n",
    "\n",
    "from data import return_data_elements\n",
    "from types import SimpleNamespace\n"
   ]
  },
  {
   "cell_type": "code",
   "execution_count": 4,
   "metadata": {},
   "outputs": [],
   "source": [
    "\n",
    "data_config1 = SimpleNamespace(\n",
    "    dim_in=100,\n",
    "    depth=2,\n",
    "    num_points=10000,\n",
    "    type_data='spherical',\n",
    "    radius=1\n",
    ")"
   ]
  },
  {
   "cell_type": "code",
   "execution_count": 5,
   "metadata": {},
   "outputs": [],
   "source": [
    "data = return_data_elements(data_config1)"
   ]
  },
  {
   "cell_type": "code",
   "execution_count": 6,
   "metadata": {},
   "outputs": [],
   "source": [
    "x_train,y_train,x_test,y_test = data"
   ]
  },
  {
   "cell_type": "code",
   "execution_count": 9,
   "metadata": {},
   "outputs": [
    {
     "name": "stdout",
     "output_type": "stream",
     "text": [
      "tensor([[-0.0110,  0.0187,  0.0869,  ..., -0.0516, -0.0798,  0.0135],\n",
      "        [-0.0675,  0.1566,  0.0640,  ..., -0.0038, -0.0321, -0.0531],\n",
      "        [ 0.1301,  0.2043,  0.1068,  ..., -0.1228, -0.0132,  0.0504],\n",
      "        ...,\n",
      "        [-0.0273,  0.0822, -0.0456,  ..., -0.0811, -0.0637, -0.1427],\n",
      "        [ 0.0484, -0.0585,  0.1447,  ..., -0.1519,  0.0596, -0.0171],\n",
      "        [ 0.0302, -0.0112, -0.0320,  ...,  0.0807,  0.0493, -0.1163]])\n",
      "tensor([1., 1., 1.,  ..., 0., 0., 0.])\n"
     ]
    },
    {
     "data": {
      "text/plain": [
       "(None, None)"
      ]
     },
     "execution_count": 9,
     "metadata": {},
     "output_type": "execute_result"
    }
   ],
   "source": [
    "print(x_train),print(y_train)"
   ]
  },
  {
   "cell_type": "code",
   "execution_count": null,
   "metadata": {},
   "outputs": [],
   "source": []
  }
 ],
 "metadata": {
  "kernelspec": {
   "display_name": "env1",
   "language": "python",
   "name": "python3"
  },
  "language_info": {
   "codemirror_mode": {
    "name": "ipython",
    "version": 3
   },
   "file_extension": ".py",
   "mimetype": "text/x-python",
   "name": "python",
   "nbconvert_exporter": "python",
   "pygments_lexer": "ipython3",
   "version": "3.11.3"
  }
 },
 "nbformat": 4,
 "nbformat_minor": 2
}
