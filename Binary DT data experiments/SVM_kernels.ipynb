{
 "cells": [
  {
   "cell_type": "code",
   "execution_count": 1,
   "metadata": {},
   "outputs": [],
   "source": [
    "import torch\n",
    "from torch import nn\n",
    "from functools import reduce\n",
    "import numpy as np\n",
    "import matplotlib.pyplot as plt\n",
    "from torch.utils.data import Dataset\n",
    "from sklearn.model_selection import train_test_split\n",
    "from torch.utils.data import DataLoader\n",
    "from sklearn.neighbors import KNeighborsClassifier\n",
    "from sklearn.metrics import accuracy_score"
   ]
  },
  {
   "cell_type": "code",
   "execution_count": 2,
   "metadata": {},
   "outputs": [],
   "source": [
    "from sklearn.svm import SVC\n",
    "from copy import deepcopy"
   ]
  },
  {
   "cell_type": "code",
   "execution_count": 3,
   "metadata": {},
   "outputs": [],
   "source": [
    "device = torch.device('cuda' if torch.cuda.is_available() else 'cpu')"
   ]
  },
  {
   "cell_type": "code",
   "execution_count": 4,
   "metadata": {},
   "outputs": [],
   "source": [
    "def generate_points(num=40000,dim=18,type='normal',normal_var=1,radius=1):\n",
    "    '''\n",
    "    If type=='normal', then generate points from N(0,normal_var)\n",
    "    If type=='spherical', then simply divide the points by their norm.'''\n",
    "    X = torch.randn([num,dim]) #coordinates sampled from N(0,1)\n",
    "\n",
    "    if type=='spherical':\n",
    "      norm = torch.norm(X, p=2, dim=1, keepdim=True)\n",
    "      X_spherical = X / norm\n",
    "      return X_spherical\n",
    "\n",
    "    else:\n",
    "      return X\n",
    "\n",
    "\n",
    "class TreeNode:\n",
    "    '''\n",
    "    This class represents a node in the decision tree.\n",
    "    Each node has a depth, a maximum depth(of the tree), a feature index, and left and right child nodes.\n",
    "    Leaf nodes have a value, which is the predicted class.\n",
    "    '''\n",
    "    def __init__(self, depth, max_depth, feature_index):\n",
    "        self.depth = depth\n",
    "        self.max_depth = max_depth\n",
    "        self.feature = feature_index\n",
    "        self.left = None\n",
    "        self.right = None\n",
    "        self.value = None  # This will store the predicted class for leaf nodes\n",
    "\n",
    "    def build_tree(self):\n",
    "        if self.depth == self.max_depth:\n",
    "            self.value = float(self.feature % 2)\n",
    "            return\n",
    "\n",
    "        # Create left and right child nodes\n",
    "        self.left = TreeNode(self.depth + 1, self.max_depth, 2*self.feature+1)\n",
    "        self.right = TreeNode(self.depth + 1, self.max_depth, 2*self.feature+2)\n",
    "\n",
    "        # Recursively build left and right subtrees\n",
    "        self.left.build_tree()\n",
    "        self.right.build_tree()\n",
    "\n",
    "    def predict(self, x):\n",
    "        if self.value is not None:\n",
    "            return self.value\n",
    "\n",
    "        if x[self.feature] > 0:\n",
    "            return self.left.predict(x)\n",
    "        else:\n",
    "            return self.right.predict(x)\n",
    "\n",
    "\n",
    "def gen_spherical_data(depth, dim_in, type_data, num_points, feat_index_start=0,radius=1):\n",
    "    '''\n",
    "    Generate points uniformly random from a hypersphere. And the label is the prediction of the tree with depth = max_depth.\n",
    "    The node hyperplanes are simply characterised by standard basis vectors(for example, the root node hyperplane is x[0] = 0)\n",
    "\n",
    "    '''\n",
    "    Tree = TreeNode(depth = 0,max_depth=depth,feature_index = feat_index_start)\n",
    "    Tree.build_tree()\n",
    "    X = generate_points(num=num_points,dim=dim_in,type=type_data,radius=radius)\n",
    "\n",
    "    Y=[]\n",
    "    for item in X:\n",
    "        Y.append(Tree.predict(item))\n",
    "\n",
    "    Y = torch.tensor(Y)\n",
    "    return X,Y\n",
    "# depth = 4\n",
    "# dim_in = 18\n",
    "# type_data = 'normal'\n",
    "# feat_index_start = 0 #the index of the first feature in the tree\n",
    "# num_points = 40000\n",
    "\n",
    "\n",
    "#     Tree = TreeNode(depth = 0,max_depth=depth,feature_index = feat_index_start)\n",
    "#     Tree.build_tree()\n",
    "#     X = generate_points(num=num_points,dim=dim_in,type=type_data)\n",
    "\n",
    "#     Y=[]\n",
    "#     for item in X:\n",
    "#     Y.append(Tree.predict(item))\n",
    "\n",
    "#     Y = torch.tensor(Y)\n"
   ]
  },
  {
   "cell_type": "code",
   "execution_count": 5,
   "metadata": {},
   "outputs": [],
   "source": [
    "class CustomDataset(Dataset):\n",
    "    def __init__(self, x, y, transform=None):\n",
    "        self.x = x\n",
    "        self.y = y\n",
    "        self.transform = transform\n",
    "\n",
    "    def __len__(self):\n",
    "        return len(self.x)\n",
    "\n",
    "    def __getitem__(self, idx):\n",
    "        sample_x = self.x[idx]\n",
    "        sample_y = self.y[idx]\n",
    "\n",
    "        if self.transform:\n",
    "            sample_x, sample_y = self.transform(sample_x, sample_y)\n",
    "\n",
    "        return sample_x, sample_y"
   ]
  },
  {
   "cell_type": "code",
   "execution_count": 43,
   "metadata": {},
   "outputs": [],
   "source": [
    "dim_in = 100\n",
    "tree_depth = 4\n",
    "num_points = 30000"
   ]
  },
  {
   "cell_type": "code",
   "execution_count": 44,
   "metadata": {},
   "outputs": [],
   "source": [
    "x_train,y_train = gen_spherical_data(depth=tree_depth, dim_in=dim_in, type_data='spherical', num_points=num_points, feat_index_start=0,radius=1)\n",
    "x_test,y_test = gen_spherical_data(depth=tree_depth, dim_in=dim_in, type_data='spherical', num_points=num_points, feat_index_start=0,radius=1)"
   ]
  },
  {
   "cell_type": "markdown",
   "metadata": {},
   "source": [
    "## Plain SVM"
   ]
  },
  {
   "cell_type": "code",
   "execution_count": 45,
   "metadata": {},
   "outputs": [
    {
     "data": {
      "text/html": [
       "<style>#sk-container-id-7 {color: black;}#sk-container-id-7 pre{padding: 0;}#sk-container-id-7 div.sk-toggleable {background-color: white;}#sk-container-id-7 label.sk-toggleable__label {cursor: pointer;display: block;width: 100%;margin-bottom: 0;padding: 0.3em;box-sizing: border-box;text-align: center;}#sk-container-id-7 label.sk-toggleable__label-arrow:before {content: \"▸\";float: left;margin-right: 0.25em;color: #696969;}#sk-container-id-7 label.sk-toggleable__label-arrow:hover:before {color: black;}#sk-container-id-7 div.sk-estimator:hover label.sk-toggleable__label-arrow:before {color: black;}#sk-container-id-7 div.sk-toggleable__content {max-height: 0;max-width: 0;overflow: hidden;text-align: left;background-color: #f0f8ff;}#sk-container-id-7 div.sk-toggleable__content pre {margin: 0.2em;color: black;border-radius: 0.25em;background-color: #f0f8ff;}#sk-container-id-7 input.sk-toggleable__control:checked~div.sk-toggleable__content {max-height: 200px;max-width: 100%;overflow: auto;}#sk-container-id-7 input.sk-toggleable__control:checked~label.sk-toggleable__label-arrow:before {content: \"▾\";}#sk-container-id-7 div.sk-estimator input.sk-toggleable__control:checked~label.sk-toggleable__label {background-color: #d4ebff;}#sk-container-id-7 div.sk-label input.sk-toggleable__control:checked~label.sk-toggleable__label {background-color: #d4ebff;}#sk-container-id-7 input.sk-hidden--visually {border: 0;clip: rect(1px 1px 1px 1px);clip: rect(1px, 1px, 1px, 1px);height: 1px;margin: -1px;overflow: hidden;padding: 0;position: absolute;width: 1px;}#sk-container-id-7 div.sk-estimator {font-family: monospace;background-color: #f0f8ff;border: 1px dotted black;border-radius: 0.25em;box-sizing: border-box;margin-bottom: 0.5em;}#sk-container-id-7 div.sk-estimator:hover {background-color: #d4ebff;}#sk-container-id-7 div.sk-parallel-item::after {content: \"\";width: 100%;border-bottom: 1px solid gray;flex-grow: 1;}#sk-container-id-7 div.sk-label:hover label.sk-toggleable__label {background-color: #d4ebff;}#sk-container-id-7 div.sk-serial::before {content: \"\";position: absolute;border-left: 1px solid gray;box-sizing: border-box;top: 0;bottom: 0;left: 50%;z-index: 0;}#sk-container-id-7 div.sk-serial {display: flex;flex-direction: column;align-items: center;background-color: white;padding-right: 0.2em;padding-left: 0.2em;position: relative;}#sk-container-id-7 div.sk-item {position: relative;z-index: 1;}#sk-container-id-7 div.sk-parallel {display: flex;align-items: stretch;justify-content: center;background-color: white;position: relative;}#sk-container-id-7 div.sk-item::before, #sk-container-id-7 div.sk-parallel-item::before {content: \"\";position: absolute;border-left: 1px solid gray;box-sizing: border-box;top: 0;bottom: 0;left: 50%;z-index: -1;}#sk-container-id-7 div.sk-parallel-item {display: flex;flex-direction: column;z-index: 1;position: relative;background-color: white;}#sk-container-id-7 div.sk-parallel-item:first-child::after {align-self: flex-end;width: 50%;}#sk-container-id-7 div.sk-parallel-item:last-child::after {align-self: flex-start;width: 50%;}#sk-container-id-7 div.sk-parallel-item:only-child::after {width: 0;}#sk-container-id-7 div.sk-dashed-wrapped {border: 1px dashed gray;margin: 0 0.4em 0.5em 0.4em;box-sizing: border-box;padding-bottom: 0.4em;background-color: white;}#sk-container-id-7 div.sk-label label {font-family: monospace;font-weight: bold;display: inline-block;line-height: 1.2em;}#sk-container-id-7 div.sk-label-container {text-align: center;}#sk-container-id-7 div.sk-container {/* jupyter's `normalize.less` sets `[hidden] { display: none; }` but bootstrap.min.css set `[hidden] { display: none !important; }` so we also need the `!important` here to be able to override the default hidden behavior on the sphinx rendered scikit-learn.org. See: https://github.com/scikit-learn/scikit-learn/issues/21755 */display: inline-block !important;position: relative;}#sk-container-id-7 div.sk-text-repr-fallback {display: none;}</style><div id=\"sk-container-id-7\" class=\"sk-top-container\"><div class=\"sk-text-repr-fallback\"><pre>SVC(C=10)</pre><b>In a Jupyter environment, please rerun this cell to show the HTML representation or trust the notebook. <br />On GitHub, the HTML representation is unable to render, please try loading this page with nbviewer.org.</b></div><div class=\"sk-container\" hidden><div class=\"sk-item\"><div class=\"sk-estimator sk-toggleable\"><input class=\"sk-toggleable__control sk-hidden--visually\" id=\"sk-estimator-id-7\" type=\"checkbox\" checked><label for=\"sk-estimator-id-7\" class=\"sk-toggleable__label sk-toggleable__label-arrow\">SVC</label><div class=\"sk-toggleable__content\"><pre>SVC(C=10)</pre></div></div></div></div></div>"
      ],
      "text/plain": [
       "SVC(C=10)"
      ]
     },
     "execution_count": 45,
     "metadata": {},
     "output_type": "execute_result"
    }
   ],
   "source": [
    "# Create an SVM classifier with a Gaussian (RBF) kernel\n",
    "svm_classifier = SVC(kernel='rbf', C=10, gamma='scale')\n",
    "\n",
    "# Train the SVM classifier on the training data\n",
    "svm_classifier.fit(x_train, y_train)"
   ]
  },
  {
   "cell_type": "code",
   "execution_count": 46,
   "metadata": {},
   "outputs": [
    {
     "name": "stdout",
     "output_type": "stream",
     "text": [
      "Accuracy: 100.0%\n"
     ]
    }
   ],
   "source": [
    "# Make predictions on the train data\n",
    "y_pred = svm_classifier.predict(x_train)\n",
    "\n",
    "# Calculate accuracy\n",
    "accuracy = (y_train == torch.tensor(y_pred)).sum().item()/len(y_train)\n",
    "print(f\"Accuracy: {accuracy * 100}%\")"
   ]
  },
  {
   "cell_type": "code",
   "execution_count": 47,
   "metadata": {},
   "outputs": [
    {
     "name": "stdout",
     "output_type": "stream",
     "text": [
      "Accuracy: 66.12666666666667%\n"
     ]
    }
   ],
   "source": [
    "# Make predictions on the test data\n",
    "y_pred = svm_classifier.predict(x_test)\n",
    "\n",
    "# Calculate accuracy\n",
    "accuracy = (y_test == torch.tensor(y_pred)).sum().item()/len(y_test)\n",
    "print(f\"Accuracy: {accuracy * 100}%\")"
   ]
  },
  {
   "cell_type": "markdown",
   "metadata": {},
   "source": [
    "## Other kernels"
   ]
  },
  {
   "cell_type": "code",
   "execution_count": 63,
   "metadata": {},
   "outputs": [],
   "source": [
    "fix_bandwidth = 100\n",
    "diag_list = [1,0.5,0.5,0.25,0.25,0.25,0.25,0.125,0.125,0.125,0.125,0.125,0.125,0.125,0.125] + [0] * (dim_in - 15)\n",
    "fix_M = torch.diag(torch.tensor(diag_list)).float()"
   ]
  },
  {
   "cell_type": "code",
   "execution_count": 64,
   "metadata": {},
   "outputs": [
    {
     "data": {
      "text/plain": [
       "tensor([[1.0000, 0.0000, 0.0000,  ..., 0.0000, 0.0000, 0.0000],\n",
       "        [0.0000, 0.5000, 0.0000,  ..., 0.0000, 0.0000, 0.0000],\n",
       "        [0.0000, 0.0000, 0.5000,  ..., 0.0000, 0.0000, 0.0000],\n",
       "        ...,\n",
       "        [0.0000, 0.0000, 0.0000,  ..., 0.0000, 0.0000, 0.0000],\n",
       "        [0.0000, 0.0000, 0.0000,  ..., 0.0000, 0.0000, 0.0000],\n",
       "        [0.0000, 0.0000, 0.0000,  ..., 0.0000, 0.0000, 0.0000]])"
      ]
     },
     "execution_count": 64,
     "metadata": {},
     "output_type": "execute_result"
    }
   ],
   "source": [
    "fix_M"
   ]
  },
  {
   "cell_type": "code",
   "execution_count": 65,
   "metadata": {},
   "outputs": [],
   "source": [
    "def euclidean_distances(samples, centers, squared=True):\n",
    "    samples_norm = torch.sum(samples**2, dim=1, keepdim=True)\n",
    "    if samples is centers:\n",
    "        centers_norm = samples_norm\n",
    "    else:\n",
    "        centers_norm = torch.sum(centers**2, dim=1, keepdim=True)\n",
    "    centers_norm = torch.reshape(centers_norm, (1, -1))\n",
    "\n",
    "    distances = samples.mm(torch.t(centers))\n",
    "    distances.mul_(-2)\n",
    "    distances.add_(samples_norm)\n",
    "    distances.add_(centers_norm)\n",
    "    #print(centers_norm.size(), samples_norm.size(), distances.size())\n",
    "    if not squared:\n",
    "        distances.clamp_(min=0)\n",
    "        distances.sqrt_()\n",
    "\n",
    "    return distances\n",
    "\n",
    "\n",
    "def euclidean_distances_M(samples, centers, M, squared=True):\n",
    "    \n",
    "    samples_norm = (samples @ M)  * samples\n",
    "    samples_norm = torch.sum(samples_norm, dim=1, keepdim=True)\n",
    "\n",
    "    if samples is centers:\n",
    "        centers_norm = samples_norm\n",
    "    else:\n",
    "        centers_norm = (centers @ M) * centers\n",
    "        centers_norm = torch.sum(centers_norm, dim=1, keepdim=True)\n",
    "\n",
    "    centers_norm = torch.reshape(centers_norm, (1, -1))\n",
    "\n",
    "    distances = samples.mm(M @ torch.t(centers))\n",
    "    distances.mul_(-2)\n",
    "    distances.add_(samples_norm)\n",
    "    distances.add_(centers_norm)\n",
    "\n",
    "    if not squared:\n",
    "        distances.clamp_(min=0)\n",
    "        distances.sqrt_()\n",
    "\n",
    "    return distances\n",
    "\n",
    "\n",
    "def gaussian(samples, centers, bandwidth):\n",
    "    '''Gaussian kernel.\n",
    "\n",
    "    Args:\n",
    "        samples: of shape (n_sample, n_feature).\n",
    "        centers: of shape (n_center, n_feature).\n",
    "        bandwidth: kernel bandwidth.\n",
    "\n",
    "    Returns:\n",
    "        kernel matrix of shape (n_sample, n_center).\n",
    "    '''\n",
    "    assert bandwidth > 0\n",
    "    kernel_mat = euclidean_distances(samples, centers)\n",
    "    kernel_mat.clamp_(min=0)\n",
    "    gamma = 1. / (2 * bandwidth ** 2)\n",
    "    kernel_mat.mul_(-gamma)\n",
    "    kernel_mat.exp_()\n",
    "\n",
    "    #print(samples.size(), centers.size(),\n",
    "    #      kernel_mat.size())\n",
    "    return kernel_mat\n",
    "\n",
    "\n",
    "def laplacian(samples, centers, bandwidth):\n",
    "    '''Laplacian kernel.\n",
    "\n",
    "    Args:\n",
    "        samples: of shape (n_sample, n_feature).\n",
    "        centers: of shape (n_center, n_feature).\n",
    "        bandwidth: kernel bandwidth.\n",
    "\n",
    "    Returns:\n",
    "        kernel matrix of shape (n_sample, n_center).\n",
    "    '''\n",
    "    assert bandwidth > 0\n",
    "    kernel_mat = euclidean_distances(samples, centers, squared=False)\n",
    "    kernel_mat.clamp_(min=0)\n",
    "    gamma = 1. / bandwidth\n",
    "    kernel_mat.mul_(-gamma)\n",
    "    kernel_mat.exp_()\n",
    "    return kernel_mat\n",
    "\n",
    "\n",
    "\n",
    "def laplacian_M(samples, centers, bandwidth=fix_bandwidth, M=fix_M):\n",
    "    assert bandwidth > 0\n",
    "    kernel_mat = euclidean_distances_M(samples, centers, M, squared=False)\n",
    "    kernel_mat.clamp_(min=0)\n",
    "    gamma = 1. / bandwidth\n",
    "    kernel_mat.mul_(-gamma)\n",
    "    kernel_mat.exp_()\n",
    "    return kernel_mat\n",
    "\n",
    "\n",
    "def dispersal(samples, centers, bandwidth, gamma):\n",
    "    '''Dispersal kernel.\n",
    "\n",
    "    Args:\n",
    "        samples: of shape (n_sample, n_feature).\n",
    "        centers: of shape (n_center, n_feature).\n",
    "        bandwidth: kernel bandwidth.\n",
    "        gamma: dispersal factor.\n",
    "\n",
    "    Returns:\n",
    "        kernel matrix of shape (n_sample, n_center).\n",
    "    '''\n",
    "    assert bandwidth > 0\n",
    "    kernel_mat = euclidean_distances(samples, centers)\n",
    "    kernel_mat.pow_(gamma / 2.)\n",
    "    kernel_mat.mul_(-1. / bandwidth)\n",
    "    kernel_mat.exp_()\n",
    "    return kernel_mat\n"
   ]
  },
  {
   "cell_type": "code",
   "execution_count": 75,
   "metadata": {},
   "outputs": [],
   "source": [
    "svm_class = SVC(kernel= laplacian_M,C=10000)"
   ]
  },
  {
   "cell_type": "code",
   "execution_count": 76,
   "metadata": {},
   "outputs": [
    {
     "data": {
      "text/html": [
       "<style>#sk-container-id-13 {color: black;}#sk-container-id-13 pre{padding: 0;}#sk-container-id-13 div.sk-toggleable {background-color: white;}#sk-container-id-13 label.sk-toggleable__label {cursor: pointer;display: block;width: 100%;margin-bottom: 0;padding: 0.3em;box-sizing: border-box;text-align: center;}#sk-container-id-13 label.sk-toggleable__label-arrow:before {content: \"▸\";float: left;margin-right: 0.25em;color: #696969;}#sk-container-id-13 label.sk-toggleable__label-arrow:hover:before {color: black;}#sk-container-id-13 div.sk-estimator:hover label.sk-toggleable__label-arrow:before {color: black;}#sk-container-id-13 div.sk-toggleable__content {max-height: 0;max-width: 0;overflow: hidden;text-align: left;background-color: #f0f8ff;}#sk-container-id-13 div.sk-toggleable__content pre {margin: 0.2em;color: black;border-radius: 0.25em;background-color: #f0f8ff;}#sk-container-id-13 input.sk-toggleable__control:checked~div.sk-toggleable__content {max-height: 200px;max-width: 100%;overflow: auto;}#sk-container-id-13 input.sk-toggleable__control:checked~label.sk-toggleable__label-arrow:before {content: \"▾\";}#sk-container-id-13 div.sk-estimator input.sk-toggleable__control:checked~label.sk-toggleable__label {background-color: #d4ebff;}#sk-container-id-13 div.sk-label input.sk-toggleable__control:checked~label.sk-toggleable__label {background-color: #d4ebff;}#sk-container-id-13 input.sk-hidden--visually {border: 0;clip: rect(1px 1px 1px 1px);clip: rect(1px, 1px, 1px, 1px);height: 1px;margin: -1px;overflow: hidden;padding: 0;position: absolute;width: 1px;}#sk-container-id-13 div.sk-estimator {font-family: monospace;background-color: #f0f8ff;border: 1px dotted black;border-radius: 0.25em;box-sizing: border-box;margin-bottom: 0.5em;}#sk-container-id-13 div.sk-estimator:hover {background-color: #d4ebff;}#sk-container-id-13 div.sk-parallel-item::after {content: \"\";width: 100%;border-bottom: 1px solid gray;flex-grow: 1;}#sk-container-id-13 div.sk-label:hover label.sk-toggleable__label {background-color: #d4ebff;}#sk-container-id-13 div.sk-serial::before {content: \"\";position: absolute;border-left: 1px solid gray;box-sizing: border-box;top: 0;bottom: 0;left: 50%;z-index: 0;}#sk-container-id-13 div.sk-serial {display: flex;flex-direction: column;align-items: center;background-color: white;padding-right: 0.2em;padding-left: 0.2em;position: relative;}#sk-container-id-13 div.sk-item {position: relative;z-index: 1;}#sk-container-id-13 div.sk-parallel {display: flex;align-items: stretch;justify-content: center;background-color: white;position: relative;}#sk-container-id-13 div.sk-item::before, #sk-container-id-13 div.sk-parallel-item::before {content: \"\";position: absolute;border-left: 1px solid gray;box-sizing: border-box;top: 0;bottom: 0;left: 50%;z-index: -1;}#sk-container-id-13 div.sk-parallel-item {display: flex;flex-direction: column;z-index: 1;position: relative;background-color: white;}#sk-container-id-13 div.sk-parallel-item:first-child::after {align-self: flex-end;width: 50%;}#sk-container-id-13 div.sk-parallel-item:last-child::after {align-self: flex-start;width: 50%;}#sk-container-id-13 div.sk-parallel-item:only-child::after {width: 0;}#sk-container-id-13 div.sk-dashed-wrapped {border: 1px dashed gray;margin: 0 0.4em 0.5em 0.4em;box-sizing: border-box;padding-bottom: 0.4em;background-color: white;}#sk-container-id-13 div.sk-label label {font-family: monospace;font-weight: bold;display: inline-block;line-height: 1.2em;}#sk-container-id-13 div.sk-label-container {text-align: center;}#sk-container-id-13 div.sk-container {/* jupyter's `normalize.less` sets `[hidden] { display: none; }` but bootstrap.min.css set `[hidden] { display: none !important; }` so we also need the `!important` here to be able to override the default hidden behavior on the sphinx rendered scikit-learn.org. See: https://github.com/scikit-learn/scikit-learn/issues/21755 */display: inline-block !important;position: relative;}#sk-container-id-13 div.sk-text-repr-fallback {display: none;}</style><div id=\"sk-container-id-13\" class=\"sk-top-container\"><div class=\"sk-text-repr-fallback\"><pre>SVC(C=10000, kernel=&lt;function laplacian_M at 0x7fbc884ae8e0&gt;)</pre><b>In a Jupyter environment, please rerun this cell to show the HTML representation or trust the notebook. <br />On GitHub, the HTML representation is unable to render, please try loading this page with nbviewer.org.</b></div><div class=\"sk-container\" hidden><div class=\"sk-item\"><div class=\"sk-estimator sk-toggleable\"><input class=\"sk-toggleable__control sk-hidden--visually\" id=\"sk-estimator-id-13\" type=\"checkbox\" checked><label for=\"sk-estimator-id-13\" class=\"sk-toggleable__label sk-toggleable__label-arrow\">SVC</label><div class=\"sk-toggleable__content\"><pre>SVC(C=10000, kernel=&lt;function laplacian_M at 0x7fbc884ae8e0&gt;)</pre></div></div></div></div></div>"
      ],
      "text/plain": [
       "SVC(C=10000, kernel=<function laplacian_M at 0x7fbc884ae8e0>)"
      ]
     },
     "execution_count": 76,
     "metadata": {},
     "output_type": "execute_result"
    }
   ],
   "source": [
    "svm_class.fit(x_train, y_train)"
   ]
  },
  {
   "cell_type": "code",
   "execution_count": 77,
   "metadata": {},
   "outputs": [
    {
     "name": "stdout",
     "output_type": "stream",
     "text": [
      "Accuracy: 100.0%\n"
     ]
    }
   ],
   "source": [
    "# Make predictions on the train data\n",
    "y_pred = svm_classifier.predict(x_train)\n",
    "\n",
    "# Calculate accuracy\n",
    "accuracy = (y_train == torch.tensor(y_pred)).sum().item()/len(y_train)\n",
    "print(f\"Accuracy: {accuracy * 100}%\")"
   ]
  },
  {
   "cell_type": "code",
   "execution_count": 78,
   "metadata": {},
   "outputs": [
    {
     "name": "stdout",
     "output_type": "stream",
     "text": [
      "Accuracy: 83.02666666666667%\n"
     ]
    }
   ],
   "source": [
    "y_pred = svm_class.predict(x_test)\n",
    "\n",
    "# Calculate accuracy\n",
    "accuracy = (y_test == torch.tensor(y_pred)).sum().item()/len(y_test)\n",
    "print(f\"Accuracy: {accuracy * 100}%\")"
   ]
  },
  {
   "cell_type": "code",
   "execution_count": 70,
   "metadata": {},
   "outputs": [
    {
     "data": {
      "text/plain": [
       "(30000, 30000)"
      ]
     },
     "execution_count": 70,
     "metadata": {},
     "output_type": "execute_result"
    }
   ],
   "source": [
    "len(y_test), len(y_train)"
   ]
  }
 ],
 "metadata": {
  "kernelspec": {
   "display_name": "env1",
   "language": "python",
   "name": "python3"
  },
  "language_info": {
   "codemirror_mode": {
    "name": "ipython",
    "version": 3
   },
   "file_extension": ".py",
   "mimetype": "text/x-python",
   "name": "python",
   "nbconvert_exporter": "python",
   "pygments_lexer": "ipython3",
   "version": "3.11.3"
  }
 },
 "nbformat": 4,
 "nbformat_minor": 2
}
